{
 "cells": [
  {
   "cell_type": "code",
   "execution_count": 2,
   "metadata": {},
   "outputs": [],
   "source": [
    "import nltk\n",
    "import string\n",
    "import re\n",
    "import math\n",
    "import numpy as np\n",
    "from collections import defaultdict\n",
    "from sklearn.metrics import f1_score, accuracy_score, confusion_matrix, ConfusionMatrixDisplay\n",
    "import matplotlib.pyplot as plt\n",
    "from sklearn.model_selection import train_test_split\n",
    "import random\n",
    "from sklearn.feature_extraction.text import CountVectorizer\n",
    "from sklearn.neighbors import KNeighborsClassifier\n",
    "from sklearn.tree import DecisionTreeClassifier\n",
    "from sklearn.svm import SVC\n",
    "from sklearn.metrics import classification_report, ConfusionMatrixDisplay\n",
    "\n"
   ]
  },
  {
   "cell_type": "code",
   "execution_count": 3,
   "metadata": {},
   "outputs": [
    {
     "name": "stderr",
     "output_type": "stream",
     "text": [
      "[nltk_data] Downloading package movie_reviews to\n",
      "[nltk_data]     C:\\Users\\11ser\\AppData\\Roaming\\nltk_data...\n",
      "[nltk_data]   Unzipping corpora\\movie_reviews.zip.\n"
     ]
    }
   ],
   "source": [
    "# (aplicar UKB o Lesk)\n",
    "import nltk\n",
    "nltk.download('movie_reviews')\n",
    "from nltk.corpus import movie_reviews as mr"
   ]
  },
  {
   "cell_type": "code",
   "execution_count": 4,
   "metadata": {},
   "outputs": [],
   "source": [
    "#avaluacio correcta separacio entre corpus de train i validacio, optimitzacio hiperparàmetres, study i anàlisis (com afecta afegir més o menys paraules), "
   ]
  },
  {
   "cell_type": "code",
   "execution_count": 5,
   "metadata": {},
   "outputs": [
    {
     "name": "stdout",
     "output_type": "stream",
     "text": [
      "1000\n",
      "1000\n"
     ]
    }
   ],
   "source": [
    "print(len(mr.fileids('pos')))\n",
    "print(len(mr.fileids('neg')))"
   ]
  },
  {
   "cell_type": "code",
   "execution_count": 6,
   "metadata": {},
   "outputs": [],
   "source": [
    "def preprocessar(text):  \n",
    "    # Convert text to lowercase\n",
    "    text = [word.lower() for word in text]\n",
    "    # no del tot segur si eliminar stopwords o no\n",
    "    #stopwords = set(['a', 'an', 'the', 'and', 'but', 'or', 'for', 'nor', 'on', 'at', 'to', 'by', 'in', 'of', 'with', 'is', 'are', 'am', 'was', 'were'])\n",
    "    cleaned_text = []\n",
    "    altres = set([' ', '-','t','/','s','_'])\n",
    "    for word in text:\n",
    "        # Remove punctuation\n",
    "        # Remove punctuation in a more comprehensive way\n",
    "        \n",
    "        word =re.sub(r'\\s[^\\w\\s]\\s', ' ', word)\n",
    "        # Remove all kinds of punctuation including parentheses\n",
    "        word = re.sub(r'[\\(\\)\\[\\]\\{\\}\\.,;:!?\\\"\\'`_]', '', word)\n",
    "        word = re.sub(r'\\d+', ' ', word) # remove numbers\n",
    "    \n",
    "        \n",
    "        # Remove apostrophes and everything after them\n",
    "        \n",
    "        \n",
    "        # Skip empty strings and stopwords\n",
    "        if word and word not in altres: #and word not in stopwords and len(word)>1: \n",
    "            cleaned_text.append(word)\n",
    "\n",
    "    return cleaned_text"
   ]
  },
  {
   "cell_type": "code",
   "execution_count": 9,
   "metadata": {},
   "outputs": [
    {
     "data": {
      "text/plain": [
       "['pos/cv000_29590.txt',\n",
       " 'pos/cv001_18431.txt',\n",
       " 'pos/cv002_15918.txt',\n",
       " 'pos/cv003_11664.txt',\n",
       " 'pos/cv004_11636.txt',\n",
       " 'pos/cv005_29443.txt',\n",
       " 'pos/cv006_15448.txt',\n",
       " 'pos/cv007_4968.txt',\n",
       " 'pos/cv008_29435.txt',\n",
       " 'pos/cv009_29592.txt']"
      ]
     },
     "metadata": {},
     "output_type": "display_data"
    }
   ],
   "source": [
    "display(mr.fileids('pos')[:10])"
   ]
  },
  {
   "cell_type": "code",
   "execution_count": 10,
   "metadata": {},
   "outputs": [
    {
     "name": "stdout",
     "output_type": "stream",
     "text": [
      "['plot', ':', 'two', 'teen', 'couples', 'go', 'to', ...]\n"
     ]
    }
   ],
   "source": [
    "print(mr.words(mr.fileids()[0]))"
   ]
  },
  {
   "cell_type": "code",
   "execution_count": 11,
   "metadata": {},
   "outputs": [],
   "source": [
    "llista_X = [preprocessar(mr.words(i)) for i in mr.fileids()]\n",
    "llista_Y = []\n",
    "for i in mr.fileids():\n",
    "    if 'pos' in i:\n",
    "        llista_Y.append('pos')\n",
    "    else:\n",
    "        llista_Y.append('neg')\n"
   ]
  },
  {
   "cell_type": "code",
   "execution_count": 14,
   "metadata": {},
   "outputs": [
    {
     "data": {
      "text/plain": [
       "['it is movies like these that make a jaded movie viewer thankful for the invention of the timex indiglo watch based on the late television show by the same name the mod squad tells the tale of three reformed criminals under the employ of the police to go undercover however things go wrong as evidence gets stolen and they are immediately under suspicion of course the ads make it seem like so much more quick cuts cool music claire dane nice hair and cute outfits car chases stuff blowing up and the like sounds like a cool movie does it not after the first fifteen minutes it quickly becomes apparent that it is not the mod squad is certainly a slick looking production complete with nice hair and costumes but that simply isn enough the film is best described as a cross between an hour long cop show and a music video both stretched out into the span of an hour and a half and with it comes every single clich it doesn really matter that the film is based on a television show as most of the plot elements have been recycled from everything we ve already seen the characters and acting is nothing spectacular sometimes even bordering on wooden claire danes and omar epps deliver their lines as if they are bored which really transfers onto the audience the only one to escape relatively unscathed is giovanni ribisi who plays the resident crazy man ultimately being the only thing worth watching unfortunately even he not enough to save this convoluted mess as all the characters don do much apart from occupying screen time with the young cast cool clothes nice hair and hip soundtrack it appears that the film is geared towards the teenage mindset despite an american r rating which the content does not justify the film is way too juvenile for the older mindset information on the characters is literally spoon fed to the audience would it be that hard to show us instead of telling us dialogue is poorly written and the plot is extremely predictable the way the film progresses you likely won even care if the heroes are in any jeopardy because you ll know they aren basing the show on a television show that nobody remembers is of questionable wisdom especially when one considers the target audience and the fact that the number of memorable films based on television shows can be counted on one hand even one that missing a finger or two the number of times that i checked my watch six is a clear indication that this film is not one of them it is clear that the film is nothing more than an attempt to cash in on the teenage spending dollar judging from the rash of really awful teen flicks that we ve been seeing as of late avoid this film at all costs',\n",
       " 'quest for camelot is warner bros first feature length fully animated attempt to steal clout from disney cartoon empire but the mouse has no reason to be worried the only other recent challenger to their throne was last fall promising if flawed  th century fox production anastasia but disney hercules with its lively cast and colorful palate had her beat hands down when it came time to crown best piece of animation this year it no contest as quest for camelot is pretty much dead on arrival even the magic kingdom at its most mediocre -- that d be pocahontas for those of you keeping score -- isn nearly as dull as this the story revolves around the adventures of free spirited kayley voiced by jessalyn gilsig the early teen daughter of a belated knight from king arthur round table kayley only dream is to follow in her father footsteps and she gets her chance when evil warlord ruber gary oldman an ex round table member gone bad steals arthur magical sword excalibur and accidentally loses it in a dangerous booby trapped forest with the help of hunky blind timberland dweller garrett carey elwes and a two headed dragon eric idle and don rickles that always arguing with itself kayley just might be able to break the medieval sexist mold and prove her worth as a fighter on arthur side quest for camelot is missing pure showmanship an essential element if it ever expected to climb to the high ranks of disney there nothing here that differentiates quest from something you d see on any given saturday morning cartoon -- subpar animation instantly forgettable songs poorly integrated computerized footage compare kayley and garrett run in with the angry ogre to herc battle with the hydra i rest my case even the characters stink -- none of them are remotely interesting so much that the film becomes a race to see which one can out bland the others in the end it a tie -- they all win that dragon comedy shtick is awfully cloying but at least it shows signs of a pulse at least fans of the early  s tgif television line up will be thrilled to find jaleel urkel white and bronson balki pinchot sharing the same footage a few scenes are nicely realized though i m at a loss to recall enough to be specific and the actors providing the voice talent are enthusiastic though most are paired up with singers who don sound a thing like them for their big musical moments -- jane seymour and celine dion but one must strain through too much of this mess to find the good aside from the fact that children will probably be as bored watching this as adults quest for camelot most grievous error is its complete lack of personality and personality we learn from this mess goes a very long way',\n",
       " 'synopsis a mentally unstable man undergoing psychotherapy saves a boy from a potentially fatal accident and then falls in love with the boy mother a fledgling restauranteur unsuccessfully attempting to gain the woman favor he takes pictures of her and kills a number of people in his way comments stalked is yet another in a seemingly endless string of spurned psychos getting their revenge type movies which are a stable category in the  s film industry both theatrical and direct to video their proliferation may be due in part to the fact that they re typically inexpensive to produce no special effects no big name stars and serve as vehicles to flash nudity allowing them to frequent late night cable television stalked wavers slightly from the norm in one respect the psycho never actually has an affair on the contrary he rejected rather quickly the psycho typically is an ex lover ex wife or ex husband other than that stalked is just another redundant entry doomed to collect dust on video shelves and viewed after midnight on cable stalked does not provide much suspense though that is what it sets out to do interspersed throughout the opening credits for instance a serious sounding narrator spouts statistics about stalkers and ponders what may cause a man to stalk it implicitly implied that all stalkers are men while pictures of a boy are shown on the screen after these credits a snapshot of actor jay underwood appears the narrator states that this is the story of daryl gleason and tells the audience that he is the stalker of course really this is the story of restauranteur brooke daniels if the movie was meant to be about daryl then it should have been called stalker not stalked okay so we know who the stalker is even before the movie starts no guesswork required stalked proceeds then as it begins obvious obvious obvious the opening sequence contrived quite a bit brings daryl and brooke the victim together daryl obsesses over brooke follows her around and tries to woo her ultimately rejected by her his plans become more and more desperate and elaborate these plans include the all time psycho in love cliche the murdered pet for some reason this genre films require a dead pet to be found by the victim stalked stalked is no exception it a cat this time -- found in the shower events like these lead to the inevitable showdown between stalker and stalked where only one survives guess who it invariably always is and you ll guess the conclusion to this turkey stalked cast is uniformly adequate not anything to write home about but also not all that bad either jay underwood as the stalker turns toward melodrama a bit too much he overdoes it in other words but he still manages to be creepy enough to pass as the type of stalker the story demands maryam d abo about the only actor close to being a star here she played the bond chick in the living daylights is equally adequate as the stalked of the title even though she seems too ditzy at times to be a strong independent business owner brooke d abo needs to be ditzy however for the plot to proceed toward the end for example brooke has her suspicions about daryl to ensure he won use it as another excuse to see her brooke decides to return a toolbox he had left at her place to his house does she just leave the toolbox at the door when no one answers of course not she tries the door opens it and wanders around the house when daryl returns he enters the house of course so our heroine is in danger somehow even though her car is parked at the front of the house right by the front door daryl is oblivious to her presence inside the whole episode places an incredible strain on the audience suspension of disbelief and questions the validity of either character intelligence stalked receives two stars because even though it is highly derivative and somewhat boring it is not so bad that it cannot be watched rated r mostly for several murder scenes and brief nudity in a strip bar it is not as offensive as many other thrillers in this genre are if you re in the mood for a good suspense film though stake out something else',\n",
       " 'capsule in on the planet mars police taking into custody an accused murderer face the title menace there is a lot of fighting and not a whole lot of story otherwise john carpenter reprises so many ideas from his previous films especially assault on precinct that the new film comes off as his homage to himself to + john carpenter apparently believes that action scenes in which people fight something horrible are the same as horror scenes for a writer and director of horror films supposedly an expert on horror it is a very bad mistake to make ghosts of mars is called a horror movie but it is more just a drawn out fight between humans and a surprisingly low powered alien menace in addition if anybody but john carpenter had made ghosts of mars carpenter would have grounds to sue this film is just chock full of pieces taken from assault on precinct the thing and prince of darkness it is in fact surprising that carpenter managed to fit so many pieces of his previous work into this film in such an admittedly novel way but that still does not make for a really good science fiction experience ghosts of mars takes place in the year mars has been mostly terraformed so that humans can walk on the surface without breathing gear which is good for the film budget it is never mentioned but the gravity on mars has been increased somehow to earth normal again making it easier to film society has changed a bit by that time but it has advanced surprisingly little apparently the culture has changed so that women are much more in positions of control and from carpenter view women have really made a mess of things society has stagnated under female control so that beyond some minor technological advances society has changed less in years than we might expect it to change in ten the basic plot of ghosts of mars has much in common with that of assault on precinct except that precinct yes precinct has been replaced by a somewhat tacky looking rundown martian mining colony instead of having the criminal napolean wilson this film has the criminal desolation williams instead of facing hoodlums with automatic weapons the police face well ghosts of mars because the ghosts are somewhat alien in nature they should behave in some alien manner but they essentially behave as human savages in another lapse of imagination the story is told in flashback flashback within flashback and flashback within flashback within flashback ghosts of mars takes place entirely at night and is filmed almost entirely in tones of red yellow and black carpenter manages to give us a powerful opening scene showing a mining train rushing through the martian night to the sound of music with a heavy beat sadly what follows is not really up to the buildup the terror he creates looks a little too much like fugitive wannabes from the rock band kiss his idea of building suspense is having a bunch of sudden jump scenes that sucker the viewer into thinking something scary is happening and then prove to be just something boring these are standard haunted house film shock effects that require no great talent to give the audience somewhat newer but also unimpressive are the cgi digital decapitations in some of the fights within a short stretch of time we have seen the release of mission to mars red planet and ghosts of mars after mission to mars was panned by too many reviewers it looks better and better and better as time goes by i rate ghosts of mars a on the to scale and a on the to + scale following the movie i showed my wife who liked ghosts of mars moderately more than i did carpenter classic assault on precinct her comment is that it was seeing the same film twice',\n",
       " 'so ask yourself what  mm eight millimeter is really all about is it about a wholesome surveillance man who loses sight of his values after becoming enmeshed in the seedy sleazy underworld of hardcore pornography is it about the business itself how bubbling just beneath the surface of big town americana there a sordid world of sick and depraved people who won necessarily stop short of murder in order to satisfy their sick and twisted desires or is it about those who can those who are in a position to influence the making of the kinds of films sick and demented people want to see i m not talking about snuff films supposed documentaries of victims being brutalized and killed on camera i m talking about films like  mm and its director joel schumacher with a recent run of big budget movies to his credit -- batman & robin a time to kill batman forever the client -- schumacher certainly has that kind of influence is  mm something you really want to see probably not the first two thirds of  mm unwind as a fairly conventional missing persons drama albeit with a particularly unsavory core then as it been threatening all along the film explodes into violence and just when you think it finally over schumacher tags on a ridiculous self righteous finale that drags the whole unpleasant experience down even further trust me there are better ways to waste two hours of your life nicolas snake eyes cage plays private investigator tom welles who is hired by a wealthy philadelphia widow to determine whether a reel of film found in her late husband safe documents a young girl murder welles goes about his assignment rather matter of factly and the pieces of the puzzle fall into place rather neatly almost as if you don need any specialized skills or training to do this welles certainly makes it look easy and cops obviously never look in toilet tanks for clues the deeper welles digs into his investigation the more obsessed he becomes like george c scott in paul schrader hardcore occasionally a little flickering sound whirs in his head like sprockets winding through a film projector reminding him of his unpleasant task there are hints that this is taking its toll on his lovely wife played by catherine keener who is frustrated by her husband spending all of his time in cleveland rather than in their ugly split level home in harrisburg pa  mm doesn condemn or condone its subject matter it just exploits it the irony of course is that schumacher and seven scribe andrew kevin walker vision of life in the snuff lane is limited by what they can show in an r rated first run hollywood product so we only see snippets of snuff and a lot more footage of nicolas cage covering his face in horror later it the turn of joaquin phoenix who quite good and by far the film most interesting character as adult bookstore flunky max california to cover his face as the horrid thing is screened over and over again all this to get to the familiar yet offensive revelation that sexual deviants are not indeed monsters but everyday people like you and me neither super nor standard  mm is shocking only in its banality',\n",
       " 'that exactly how long the movie felt to me there weren even nine laughs in nine months it a terrible mess of a movie starring a terrible mess of a man mr hugh grant a huge dork it not the whole oral sex prostitution thing referring to grant not me that bugs me it the fact that grant is annoying not just adam sandler annoying we re talking jim carrey annoying since when do eye flutters and nervous smiles pass for acting but on the other hand since when do really bad slapstick a fistfight in the delivery room culminating in grant head in joan cusack lap -- a scene he paid $ to have included in the movie and obscene double entendres robin williams the obstetrician tells grant pregnant girlfriend she has a big pussy referring of course to the size of the cat hairs on her coat but nonetheless grant paid $ to have the exchange included in the movie pass for comedy nine months is a predictable cookie cutter movie with no originality in humor or plot hugh grant plays a successful child psychiatrist why a child psychologist so the scriptwriters could inject the following unfunny exchange kid my dad an asshole grant flutters eyelashes offers a nervous smile then responds in his annoying english accent and i think i actually have talent attitude could you possibly elaborate on that kid my dad a huge asshole more like a hugh asshole but that beside the point which is nine months includes too many needlessly stupid jokes that get laughs from the ten year olds in the audience while everyone else shakes his or her head in disbelief so anyway grant finds out his girlfriend is pregnant and does his usual reaction fluttered eyelashes nervous smiles this paves the way for every possible pregnancy child birth gag in the book especially since grant equally annoying friend wife is also pregnant the annoying friend is played by tom arnold who provides most of the cacophonous slapstick none of which is funny such as a scene where arnold beats up a costumed arnie the dinosaur you draw your own parallels on that one in a toy store the only interesting character in the movie is played by jeff goldblum who should have hid himself away somewhere after the dreadful hideaway as an artist with a fear of and simultaneous longing for commitment not even robin williams who plays a russian doctor who has recently decided to switch from veterinary medicine to obstetrics has much humor his is a one joke character -- the old foreign guy who mispronounces english stereotype did someone say yakov smirnov that my favorite vodka by the way hence the line now it time to take a look at your volvo another nasty but unamusing joke except this one goes right over the ten year olds heads while the adults simultaneously groan nine months is a complete failure low on laughs and intelligence and high on loud unfunny slapstick failed jokes and other uninspired lunacy hugh grant sunset boulevard arrest please no caught with his pants down jokes may bring more people into the theaters but they certainly won leave with a smile on their faces not after minutes of grant nervous smiles everything in the movie is so forced so unauthentic that anyone with an i q over sorry hugh will know they wasted their money on an unfulfilled desire but at least they didn spend bucks for it',\n",
       " 'call it a road trip for the walking wounded stellan skarsg rd plays such a convincingly zombified drunken loser that it difficult to spend nearly two hours of screen time in his smelly boozed out presence yet this ever reliable swedish actor adds depth and significance to the otherwise plodding and forgettable aberdeen a sentimental and painfully mundane european drama playwright august strindberg built his career on families and relationships paralyzed by secrets unable to express their longings until the hour is far too late that an accurate reflection of what aberdeen strives for focusing on the pairing of an alcoholic father tomas skarsg rd and his alienated openly hostile yuppie daughter kaisa lena headey gossip they haven spoken in years and wouldn even be making the long trip from norway to aberdeen scotland by automobile if it weren for kaisa mother charlotte rampling under the sand rotting away in a hospital bed from cancer in a soap opera twist mother has only a few days to live only in the movies right too blitzed to even step foot on a plane tomas hits the open road with kaisa loathing each other all the while they make periodic stops for tomas to puke on the dashboard or pass out -- whenever he isn muttering what a rotten kid she turned out to be despite his sloshed viewpoint tomas recognizes that the apple hasn fallen very far from the tree kaisa gets nosebleeds from snorting coke sabotages her personal relationships through indifference and is unable to restrain her quick and vindictive temper ain they a pair unable to find true notes of unspoken familial empathy in the one note and repetitively bitchy dialogue screenwriters kristin amundsen and hans petter moland fabricate a series of contrivances to propel events forward -- lost money roving street hooligans looking for drunks to kick around nosy cops and flat tires all figure into the schematic and convenient narrative by the time they reach the hospital it time to unveil the secrets from a dark past that are not only simplistic devices that trivialize the father daughter conflict they re also the mainstays of many a bad strindberg wannabe this revelation exists purely for its own sake aberdeen doesn know where else to go weak unimaginative casting thwarts the pivotal role of kaisa if lena headey were a stronger actress perhaps aberdeen could have been able to coast on the performances and moody haunting cinematography rendering norway into its own pastoral ghost world -- the reference to a certain superior american indie flick intentional headey too busy acting using her face and furrowed brow to convey every last twitch of insouciance if she were paying any attention to skarsg rd maybe she d figure out that doing less can reveal so much more it worthwhile to compare aberdeen to an earlier film released in jonathan nossiter captivating signs & wonders it not just because skarsg rd and rampling played disturbed parental figures in both films they re not bound by ceremonial wedlock in aberdeen the differences in the way their characters were presented is significant in aberdeen rampling is a luminous diva preening and static in her hospital bed despite skarsg rd solid performance as tomas his pathetic drunk is never given much of a chance to emote anything besides catatonic sorrow there genuine ferocity and sexually charged frisson during their understated confrontations in signs & wonders allowing them to suggest a gray zone of complications that accompany torn romance and years of stifled curiosity nossiter film thoroughly explores this neurotic territory in addition to delving into the americanization of greece and the use of mysticism as an illusion to deflect pain if signs & wonders sometimes feels overloaded with ideas at least it willing to stretch beyond what we ve come to expect from traditional drama aberdeen is never half so ambitious content to sleepwalk through the rhythms and timing of other movies when did character driven stories stop paying attention to the complexities of real life the depressing answer can be found in lawrence kasdan trite but occasionally useful grand canyon where steve martin hollywood mogul pronounces all of life riddles are answered in the movies even foreign films are taking that advice to heart',\n",
       " 'plot a young french boy sees his parents killed before his eyes by tim roth oops i mean an evil man he vows revenge on that man and is taught the ways of the musketeer by some old dude who used to be one himself anyway fourteen years go by and arrgh well you know the rest swish swish zzzzzzz critique this is a pretty bad movie let see where should i start okay first of all the story is just plain boring it not original is entirely predictable and lacks energy okay what next acting you say hmmmm well the main actor justin chambers is basically an uncharismatic version of chris o donnell but with less range think about that and mena suvari is just plain off not as bad as thora birch was in dungeons & dragons but entirely miscast with bad deliveries awful sequences and a piss poor accent that comes and goes now i m not sure if this was ms suvari fault or the director but i ve definitely seen her at a much higher level than in this film the only semi saving grace actor wise is tim roth as the irrepressible bad guy but once again it not something that we haven seen before a thousand times by the same guy tim please for the love of god beg your agent to ask the marketplace for some modern day american roles for you as a nice guy in a romantic comedy or something stretch dude stretch we all know that you can do much better than this gunk alright what else was bad in this film oh yeah the score yikes how about taking it down a few notches there fellas this thing blares in your ear whenever it feels the need to accentuate a certain scene but actually does little more than annoy i think it important for the man behind the music to recognize that this film isn a real epic by any stretch of the imagination it a fluffy rehashed cake walk created by some shrewd studio heads who decided to take advantage of the whole kung fu phenomenon in films and test it out on an old classic dudes you failed all around keep reading the editing is also pretty shoddy in this movie the dialogue banal and stilted and the plot problems plentiful why does the guy on top of the horse carriage just stand there when his opponent takes forever scampering his way back to the top why don they just cut the mouseketeer rope at the top of the tower instead of jumping down on their own chords and fighting him while hanging why doesn anybody look a day older when the sequence says years later at least change your shirt man keep in mind that i have never strayed away from championing certain movies that are created simply for the sake of a fun time but this flick just didn cut it for me it was boring for stretches the acting was atrocious at times the romantic scene between suvari and chambers next to the lake reminded me of plays in high school which made you cringe there was little reason to care for anyone and since when were the musketeers fat i will give the movie this much and that is that its main reason for being its raison d etre as the french would say its fight sequences do come through despite the lack of their numbers in the film i was hoping that the movie would be packed with cool stuntwork as promoted in its trailer but what you see there are essentially the snippets from the two major and cool swashbuckling sequences from the film the first comes right at the beginning of the movie while the other essentially finishes the film off hanging from the tower and juggling off ladders the ladder sequence itself is a definite keeper but unfortunately the rest of the movie is just regurgitated crap and can anyone please tell me how catherine deneuve got her name placed at the top of this film credits hullo the film is called the musketeer and stars a dude name justin chambers deneuve is barely in this movie ugh just another small thing that annoyed me about this trash now say it together gang all for one and one for all we vow to stay away from it all thank me later where joblo coming from a knight tale american outlaws crouching tiger hidden dragon the matrix the replacement killers romeo must die shanghai noon',\n",
       " 'best remembered for his understated performance as dr hannibal lecter in michael mann forensics thriller manhunter scottish character actor brian cox brings something special to every movie he works on usually playing a bit role in some studio schlock he dies halfway through the long kiss goodnight he only occasionally given something meaty and substantial to do if you want to see some brilliant acting check out his work as a dogged police inspector opposite frances mcdormand in ken loach hidden agenda cox plays the role of big john harrigan in the disturbing new indie flick l i e which lot picked up at sundance when other distributors were scared to budge big john feels the love that dares not speak its name but he expresses it through seeking out adolescents and bringing them back to his pad what bothered some audience members was the presentation of big john in an oddly empathetic light he an even tempered funny robust old man who actually listens to the kids problems as opposed to their parents and friends both caught up in the high wire act of their own confused lives he ll have sex for pay with them only after an elaborate courtship charming them with temptations from the grown up world l i e stands for long island expressway which slices through the strip malls and middle class homes of suburbia filmmaker michael cuesta uses it as a pretty transparent metaphor of dangerous escape for his year old protagonist howie paul franklin dano in his opening voice over howie reveals a morbid preoccupation with death on the road citing the l i e highway deaths of filmmaker alan j pakula songwriter harry chapin and his own mother on exit he both fascinated and disturbed by the l i e and those feelings are projected onto big john who follows howie around in his bright red car but never makes a move to force the boy to do something he doesn want to do this makes him much more complex than the usual child molesters seen in movies -- he a beast but ashamed of it l i e would have worked best as a half hour short film about howie ill advised foray into big john haven there is unnecessary padding with howie miserable dad bruce altman in the hot seat for a white collar crime degenerate youngsters who get their kicks from robbing middle class houses and some homoerotic shenanigans with wise ass gary terrio billy kay a handsome artful dodger rather than add to the themes of suburban ennui not that we needed another movie on that subject these awkward subplots pad out the running time to adequate feature length concurrently the relationship between howie and big john is evenly paced and exceptionally well acted cox sporting a baseball cap and a faded marine tattoo is all bluff and bluster dano is quiet and at first glance seems so withdrawn as to be transparent we re so used to child actors whose dramatic choices are broad and obvious calling haley joel it surprising to see one who actually listens throughout any given scene the restraint is admirable but l i e screenplay doesn always give them the best material when howie reads big john a walt whitman poem the moment feels a bit too precious director michael cuesta lingers on an ecstatic reaction shot of big john who may as well be hearing glenn gould performing bach goldberg variations it too much there are also some obvious dramatic contrivances involving big john other boy toy walter masterson jealous over the newbie this plot thread predictably leads to violence not content to be a haunting observational portrait of teen alienation in a royally screwed up world like terry zwigoff superb ghost world cuesta lacks the confidence in his own work to end on an ambivalent note it typical of unimaginative cinema to wrap things up with a bullet sparing the writers from actually having to come up with a complex philosophical note in this regard l i e and countless other indie films share something in common with blockbuster action films problems are solved when the obstacle is removed how often does real life work this way to extend the question if a movie is striving for realism do dramatic contrivances destroy the illusion',\n",
       " 'janeane garofalo in a romantic comedy -- it was a good idea a couple years ago with the truth about cats and dogs but is almost excruciating in the matchmaker this is a by the books movie that plods along on a predestined course with no surprises and very few laughs it also jumps on the ever popular political satire bandwagon and manages to fall flat there too garofalo plays a campaign aide to a massacusetts senator jay o sanders running for reelection denis leary plays the stereotypical strategist with no ethics who decides the only way for the scandal plagued senator to win is to play up his irish roots and cash in on that boston roman catholic democrat contingent that made the kennedy family so popular so leary orders garofalo to go to ireland and dig up some relatives to exploit she soon learns why easier said than done is the mantra of movies like this the matchmaker falls for every cliche of things that can go wrong -- garofalo has to take a tiny plane to ireland almost misses the bus to town can get a hotel room ends up in the smallest trashiest one around has a dog piss on her luggage and so on then comes what roger ebert calls the meet cute it happens in every romance the man and woman have to meet each other for the first time in some unconventional cinematic way in the matchmaker it happens when garofalo walks into her hotel bathroom and finds a nude sean david o hara in the bathtub his dog sitting at his side no points for guessing it the same dog that just made water on her luggage also no points for guessing garofalo hates o hara on sight that how it works in movies like these i know from the instant i saw that irishman in the bathtub that she d hate him for awhile then succumb to his charms live happily for a reel or so before allowing some superficial detail to throw the relationship into turmoil after which they d reconcile in time for a happy irish tune to play over the end credits i haven mentioned the movie twist yet garofalo comes to the small ireland town during the annual matchmaking festival during which lonely folks from around the county pair off into a future of bliss milo o shea who looks like an irish tom snyder is the matchmaker who pops onscreen occasionally to spew his words of wisdom and bring lonely souls together rest assured he ll do all he can to match up garofalo and o hara oh and in keeping with the matchmaker utter predictability he dies toward the end what the message here sometimes even the most respectable person of comedic distinction like garofalo will sell out with a weak script i was excited to see garofalo and leary in the same movie but they actually only have two or three scenes together leary stays stateside for the most part yelling at garofalo over the phone and generally being an asshole he even undoes himself with the old microphone still on after he done giving the speech cliche both of them should have known better']"
      ]
     },
     "metadata": {},
     "output_type": "display_data"
    }
   ],
   "source": [
    "# Convert each list of words in llista_X into a string\n",
    "llista_X_strings = [' '.join(words) for words in llista_X]\n",
    "\n",
    "display(llista_X_strings[2:100][:10])"
   ]
  },
  {
   "cell_type": "code",
   "execution_count": 15,
   "metadata": {},
   "outputs": [],
   "source": [
    "vectorizer = CountVectorizer()\n",
    "X = vectorizer.fit_transform(llista_X_strings)"
   ]
  },
  {
   "cell_type": "code",
   "execution_count": 16,
   "metadata": {},
   "outputs": [
    {
     "data": {
      "text/plain": [
       "array(['aa', 'aaa', 'aaaaaaaaah', ..., 'zwigoff', 'zycie', 'zzzzzzz'],\n",
       "      dtype=object)"
      ]
     },
     "execution_count": 16,
     "metadata": {},
     "output_type": "execute_result"
    }
   ],
   "source": [
    "vectorizer.get_feature_names_out()"
   ]
  },
  {
   "cell_type": "code",
   "execution_count": 17,
   "metadata": {},
   "outputs": [
    {
     "name": "stdout",
     "output_type": "stream",
     "text": [
      "[[0 0 0 ... 0 0 0]\n",
      " [0 0 0 ... 0 0 0]\n",
      " [0 0 0 ... 0 0 0]\n",
      " ...\n",
      " [0 0 0 ... 0 0 0]\n",
      " [0 0 0 ... 0 0 0]\n",
      " [0 0 0 ... 0 0 0]]\n"
     ]
    }
   ],
   "source": [
    "print(X.toarray())\n"
   ]
  },
  {
   "cell_type": "code",
   "execution_count": 18,
   "metadata": {},
   "outputs": [],
   "source": [
    "X_train,X_test,Y_train,Y_test = train_test_split(X,llista_Y, train_size = 0.8, test_size = 0.2)"
   ]
  },
  {
   "cell_type": "code",
   "execution_count": 19,
   "metadata": {},
   "outputs": [
    {
     "name": "stdout",
     "output_type": "stream",
     "text": [
      "Validation Accuracy: 0.5475\n"
     ]
    }
   ],
   "source": [
    "knn = KNeighborsClassifier(n_neighbors=10, \n",
    "                                p=1, \n",
    "                                metric='minkowski')\n",
    "knn.fit(X_train, Y_train)\n",
    "\n",
    "\n",
    "Y_test_pred = knn.predict(X_test)\n",
    "\n",
    "        \n",
    "accuracy = accuracy_score(Y_test, Y_test_pred)\n",
    "\n",
    "print(f\"Validation Accuracy: {accuracy}\")\n",
    "#y_val_pred = knn.predict(X_v)\n",
    "\n",
    "        \n",
    "#accuracy = accuracy_score(y_val, y_val_pred)\n"
   ]
  },
  {
   "cell_type": "code",
   "execution_count": 20,
   "metadata": {},
   "outputs": [
    {
     "name": "stdout",
     "output_type": "stream",
     "text": [
      "Validation Accuracy: 0.68\n"
     ]
    }
   ],
   "source": [
    "tree_model = DecisionTreeClassifier(criterion = 'gini', max_depth=12, min_samples_split = 12, random_state=1)\n",
    "\n",
    "\n",
    "tree_model.fit(X_train, Y_train)\n",
    "\n",
    "    \n",
    "Y_test_pred = tree_model.predict(X_test)\n",
    "\n",
    "\n",
    "accuracy = accuracy_score(Y_test, Y_test_pred)\n",
    "\n",
    "print(f\"Validation Accuracy: {accuracy}\")"
   ]
  },
  {
   "cell_type": "code",
   "execution_count": 21,
   "metadata": {},
   "outputs": [
    {
     "name": "stdout",
     "output_type": "stream",
     "text": [
      "Validation Accuracy: 0.8275\n"
     ]
    }
   ],
   "source": [
    "svm = SVC(kernel='rbf', C=10, random_state=1, probability=True)\n",
    "\n",
    "\n",
    "svm.fit(X_train, Y_train)\n",
    "\n",
    "       \n",
    "Y_test_pred = svm.predict(X_test)\n",
    "\n",
    "  \n",
    "accuracy = accuracy_score(Y_test, Y_test_pred)\n",
    "\n",
    "print(f\"Validation Accuracy: {accuracy}\")"
   ]
  }
 ],
 "metadata": {
  "kernelspec": {
   "display_name": "Python 3",
   "language": "python",
   "name": "python3"
  },
  "language_info": {
   "codemirror_mode": {
    "name": "ipython",
    "version": 3
   },
   "file_extension": ".py",
   "mimetype": "text/x-python",
   "name": "python",
   "nbconvert_exporter": "python",
   "pygments_lexer": "ipython3",
   "version": "3.12.9"
  }
 },
 "nbformat": 4,
 "nbformat_minor": 2
}
