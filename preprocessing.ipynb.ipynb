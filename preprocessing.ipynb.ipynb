{
 "cells": [
  {
   "cell_type": "code",
   "execution_count": null,
   "metadata": {},
   "outputs": [],
   "source": [
    "import nltk\n",
    "import string\n",
    "import re\n",
    "import numpy as np\n",
    "from sklearn.model_selection import train_test_split\n",
    "from sklearn.feature_extraction.text import CountVectorizer\n",
    "import pandas as pd"
   ]
  },
  {
   "cell_type": "code",
   "execution_count": 4,
   "metadata": {},
   "outputs": [
    {
     "name": "stderr",
     "output_type": "stream",
     "text": [
      "[nltk_data] Downloading package stopwords to\n",
      "[nltk_data]     C:\\Users\\11ser\\AppData\\Roaming\\nltk_data...\n",
      "[nltk_data]   Package stopwords is already up-to-date!\n",
      "[nltk_data] Downloading package movie_reviews to\n",
      "[nltk_data]     C:\\Users\\11ser\\AppData\\Roaming\\nltk_data...\n",
      "[nltk_data]   Package movie_reviews is already up-to-date!\n"
     ]
    }
   ],
   "source": [
    "nltk.download('stopwords');\n",
    "\n",
    "\"\"\"\n",
    "Afegir stopwords contextuals\n",
    "\"\"\"\n",
    "\n",
    "nltk.download('movie_reviews');\n",
    "from nltk.corpus import movie_reviews as mr;"
   ]
  },
  {
   "cell_type": "markdown",
   "metadata": {},
   "source": [
    "## Dividir en conjunt de test i train"
   ]
  },
  {
   "cell_type": "code",
   "execution_count": 5,
   "metadata": {},
   "outputs": [],
   "source": [
    "from nltk.tokenize import word_tokenize\n",
    "from nltk.corpus import stopwords\n",
    "from nltk.stem import WordNetLemmatizer\n",
    "\n",
    "lemmatizer = WordNetLemmatizer()\n",
    "stop_words = set(stopwords.words('english'))\n",
    "\n",
    "def preprocess(text):\n",
    "    text = text.lower() # lowercase\n",
    "    text = re.sub(r'\\d+', '', text) # remove numbers\n",
    "    text = re.sub(r'\\n', ' ', text) # remove new lines\n",
    "    text = text.translate(str.maketrans('', '', string.punctuation)) # remove punctuation\n",
    "\n",
    "    # Tokenize the text\n",
    "    tokens = word_tokenize(text)\n",
    "\n",
    "    # Lemmatize the text and remove stop words\n",
    "    filtered_tokens = [lemmatizer.lemmatize(word) for word in tokens if word.lower() not in stop_words]\n",
    "\n",
    "    return ' '.join(filtered_tokens) # return the text as string"
   ]
  },
  {
   "cell_type": "code",
   "execution_count": 6,
   "metadata": {},
   "outputs": [
    {
     "data": {
      "text/html": [
       "<div>\n",
       "<style scoped>\n",
       "    .dataframe tbody tr th:only-of-type {\n",
       "        vertical-align: middle;\n",
       "    }\n",
       "\n",
       "    .dataframe tbody tr th {\n",
       "        vertical-align: top;\n",
       "    }\n",
       "\n",
       "    .dataframe thead th {\n",
       "        text-align: right;\n",
       "    }\n",
       "</style>\n",
       "<table border=\"1\" class=\"dataframe\">\n",
       "  <thead>\n",
       "    <tr style=\"text-align: right;\">\n",
       "      <th></th>\n",
       "      <th>text</th>\n",
       "      <th>label</th>\n",
       "    </tr>\n",
       "  </thead>\n",
       "  <tbody>\n",
       "    <tr>\n",
       "      <th>0</th>\n",
       "      <td>plot two teen couple go church party drink dri...</td>\n",
       "      <td>neg</td>\n",
       "    </tr>\n",
       "    <tr>\n",
       "      <th>1</th>\n",
       "      <td>happy bastard quick movie review damn yk bug g...</td>\n",
       "      <td>neg</td>\n",
       "    </tr>\n",
       "    <tr>\n",
       "      <th>2</th>\n",
       "      <td>movie like make jaded movie viewer thankful in...</td>\n",
       "      <td>neg</td>\n",
       "    </tr>\n",
       "    <tr>\n",
       "      <th>3</th>\n",
       "      <td>quest camelot warner bros first featurelength ...</td>\n",
       "      <td>neg</td>\n",
       "    </tr>\n",
       "    <tr>\n",
       "      <th>4</th>\n",
       "      <td>synopsis mentally unstable man undergoing psyc...</td>\n",
       "      <td>neg</td>\n",
       "    </tr>\n",
       "  </tbody>\n",
       "</table>\n",
       "</div>"
      ],
      "text/plain": [
       "                                                text label\n",
       "0  plot two teen couple go church party drink dri...   neg\n",
       "1  happy bastard quick movie review damn yk bug g...   neg\n",
       "2  movie like make jaded movie viewer thankful in...   neg\n",
       "3  quest camelot warner bros first featurelength ...   neg\n",
       "4  synopsis mentally unstable man undergoing psyc...   neg"
      ]
     },
     "metadata": {},
     "output_type": "display_data"
    },
    {
     "name": "stdout",
     "output_type": "stream",
     "text": [
      "Train size: 1600\n",
      "Test size: 400\n"
     ]
    }
   ],
   "source": [
    "fileids = mr.fileids()\n",
    "categories = [mr.categories(fileid)[0] for fileid in fileids]  # 'pos' or 'neg'\n",
    "\n",
    "data = pd.DataFrame({\n",
    "    'text': [preprocess(mr.raw(fileid)) for fileid in fileids],   #Preprocess the text before creating the df\n",
    "    'label': categories\n",
    "})\n",
    "\n",
    "# Split into train and test with stratify to balance categories\n",
    "X_train, X_test, y_train, y_test = train_test_split(\n",
    "    data['text'], data['label'], test_size=0.2, random_state=42, stratify=data['label']\n",
    ")\n",
    "\n",
    "display(data.head())\n",
    "print(f\"Train size: {len(X_train)}\")\n",
    "print(f\"Test size: {len(X_test)}\")"
   ]
  },
  {
   "cell_type": "code",
   "execution_count": 13,
   "metadata": {},
   "outputs": [],
   "source": [
    "vectorizer = CountVectorizer()\n",
    "X_train_vectorized = vectorizer.fit_transform(X_train).astype(np.float32)\n",
    "X_test_vectorized = vectorizer.transform(X_test).astype(np.float32)"
   ]
  },
  {
   "cell_type": "markdown",
   "metadata": {},
   "source": [
    "## Inicialitzar els models seleccionats"
   ]
  },
  {
   "cell_type": "code",
   "execution_count": 28,
   "metadata": {},
   "outputs": [],
   "source": [
    "from sklearn.linear_model import LogisticRegression\n",
    "from sklearn.ensemble import RandomForestClassifier\n",
    "from lightgbm import LGBMClassifier\n",
    "from sklearn.model_selection import GridSearchCV\n",
    "from sklearn.neighbors import KNeighborsClassifier\n",
    "from sklearn.svm import SVC\n",
    "\n",
    "# Definir modelos con random_state donde sea aplicable\n",
    "random_state = 42\n",
    "logr = LogisticRegression(random_state=random_state)  # Aumentar max_iter para convergencia\n",
    "knn = KNeighborsClassifier()\n",
    "rf = RandomForestClassifier(random_state=random_state)\n",
    "lgbm = LGBMClassifier(random_state=random_state, verbose=-1)\n",
    "svm = SVC(random_state=random_state)\n",
    "\n",
    "# Definir los grids de hiperparámetros para cada modelo\n",
    "logr_params = {\n",
    "    'max_iter': [1000],\n",
    "    'C': [0.1, 1, 10],\n",
    "    'solver': ['liblinear', 'saga']\n",
    "}\n",
    "\n",
    "knn_params = {\n",
    "    'n_neighbors': [3, 5, 7, 9],\n",
    "    'weights': ['uniform', 'distance'],\n",
    "    'metric': ['euclidean', 'manhattan']\n",
    "}\n",
    "\n",
    "rf_params = {\n",
    "    'n_estimators': [50, 100, 200],\n",
    "    'max_depth': [None, 10, 20],\n",
    "    'min_samples_split': [2, 5],\n",
    "    'min_samples_leaf': [1, 2],\n",
    "    'max_features': ['sqrt', 'log2']\n",
    "}\n",
    "\n",
    "xgb_param_grid = {\n",
    "    'n_estimators': [100, 200],\n",
    "    'learning_rate': [0.01, 0.1],\n",
    "    'max_depth': [3, 5, 7]\n",
    "}\n",
    "\n",
    "lgbm_params = {\n",
    "    'learning_rate': [0.01, 0.1],\n",
    "    'n_estimators': [100, 200],\n",
    "    'max_depth': [3, 5, 7],\n",
    "    'num_leaves': [7, 15, 31], \n",
    "}\n",
    "\n",
    "svm_params = {\n",
    "    'C': [0.1, 1, 10],\n",
    "    'kernel': ['linear', 'rbf'],\n",
    "    'gamma': ['scale', 'auto', 0.1, 1]\n",
    "}"
   ]
  },
  {
   "cell_type": "code",
   "execution_count": null,
   "metadata": {},
   "outputs": [
    {
     "name": "stdout",
     "output_type": "stream",
     "text": [
      "Fitting 5 folds for each of 6 candidates, totalling 30 fits\n",
      "Fitting 5 folds for each of 16 candidates, totalling 80 fits\n",
      "Fitting 5 folds for each of 72 candidates, totalling 360 fits\n",
      "Fitting 5 folds for each of 36 candidates, totalling 180 fits\n",
      "Fitting 5 folds for each of 24 candidates, totalling 120 fits\n"
     ]
    }
   ],
   "source": [
    "models = [\n",
    "    ('Logistic Regression', logr, logr_params),\n",
    "    ('KNN', knn, knn_params),\n",
    "    ('Random Forest', rf, rf_params),\n",
    "    ('LightGBM', lgbm, lgbm_params),\n",
    "    ('SVM', svm, svm_params)\n",
    "]\n",
    "\n",
    "best_params = {}\n",
    "best_scores = {}\n",
    "\n",
    "for name, model, params in models:\n",
    "    grid_search = GridSearchCV(\n",
    "        estimator=model,\n",
    "        param_grid=params,\n",
    "        scoring='accuracy',\n",
    "        cv=5,\n",
    "        n_jobs=-1,\n",
    "        verbose=2)\n",
    "\n",
    "    grid_search.fit(X_train_vectorized, y_train)\n",
    "\n",
    "    best_params[name] = grid_search.best_params_\n",
    "    best_scores[name] = grid_search.best_score_"
   ]
  },
  {
   "cell_type": "code",
   "execution_count": 30,
   "metadata": {},
   "outputs": [
    {
     "data": {
      "text/html": [
       "<div>\n",
       "<style scoped>\n",
       "    .dataframe tbody tr th:only-of-type {\n",
       "        vertical-align: middle;\n",
       "    }\n",
       "\n",
       "    .dataframe tbody tr th {\n",
       "        vertical-align: top;\n",
       "    }\n",
       "\n",
       "    .dataframe thead th {\n",
       "        text-align: right;\n",
       "    }\n",
       "</style>\n",
       "<table border=\"1\" class=\"dataframe\">\n",
       "  <thead>\n",
       "    <tr style=\"text-align: right;\">\n",
       "      <th></th>\n",
       "      <th>Model</th>\n",
       "      <th>Best Score</th>\n",
       "      <th>Best Parameters</th>\n",
       "    </tr>\n",
       "  </thead>\n",
       "  <tbody>\n",
       "    <tr>\n",
       "      <th>0</th>\n",
       "      <td>Logistic Regression</td>\n",
       "      <td>0.833750</td>\n",
       "      <td>{'C': 0.1, 'max_iter': 1000, 'solver': 'liblin...</td>\n",
       "    </tr>\n",
       "    <tr>\n",
       "      <th>2</th>\n",
       "      <td>Random Forest</td>\n",
       "      <td>0.833125</td>\n",
       "      <td>{'max_depth': 20, 'max_features': 'sqrt', 'min...</td>\n",
       "    </tr>\n",
       "    <tr>\n",
       "      <th>4</th>\n",
       "      <td>SVM</td>\n",
       "      <td>0.824375</td>\n",
       "      <td>{'C': 1, 'gamma': 'scale', 'kernel': 'linear'}</td>\n",
       "    </tr>\n",
       "    <tr>\n",
       "      <th>3</th>\n",
       "      <td>LightGBM</td>\n",
       "      <td>0.821875</td>\n",
       "      <td>{'learning_rate': 0.1, 'max_depth': 7, 'n_esti...</td>\n",
       "    </tr>\n",
       "    <tr>\n",
       "      <th>1</th>\n",
       "      <td>KNN</td>\n",
       "      <td>0.575625</td>\n",
       "      <td>{'metric': 'euclidean', 'n_neighbors': 3, 'wei...</td>\n",
       "    </tr>\n",
       "  </tbody>\n",
       "</table>\n",
       "</div>"
      ],
      "text/plain": [
       "                 Model  Best Score  \\\n",
       "0  Logistic Regression    0.833750   \n",
       "2        Random Forest    0.833125   \n",
       "4                  SVM    0.824375   \n",
       "3             LightGBM    0.821875   \n",
       "1                  KNN    0.575625   \n",
       "\n",
       "                                     Best Parameters  \n",
       "0  {'C': 0.1, 'max_iter': 1000, 'solver': 'liblin...  \n",
       "2  {'max_depth': 20, 'max_features': 'sqrt', 'min...  \n",
       "4     {'C': 1, 'gamma': 'scale', 'kernel': 'linear'}  \n",
       "3  {'learning_rate': 0.1, 'max_depth': 7, 'n_esti...  \n",
       "1  {'metric': 'euclidean', 'n_neighbors': 3, 'wei...  "
      ]
     },
     "metadata": {},
     "output_type": "display_data"
    }
   ],
   "source": [
    "results_df = pd.DataFrame({\n",
    "    'Model': list(best_scores.keys()),\n",
    "    'Best Score': list(best_scores.values()),\n",
    "    'Best Parameters': list(best_params.values())})\n",
    "\n",
    "results_df = results_df.sort_values('Best Score', ascending=False)\n",
    "\n",
    "display(results_df)"
   ]
  },
  {
   "cell_type": "markdown",
   "metadata": {},
   "source": [
    "## Evaluar els models en el test"
   ]
  },
  {
   "cell_type": "code",
   "execution_count": 40,
   "metadata": {},
   "outputs": [
    {
     "data": {
      "image/png": "[encoded data removed]",
      "text/plain": [
       "<Figure size 2000x500 with 4 Axes>"
      ]
     },
     "metadata": {},
     "output_type": "display_data"
    }
   ],
   "source": [
    "from sklearn.metrics import confusion_matrix, accuracy_score\n",
    "import matplotlib.pyplot as plt\n",
    "import numpy as np\n",
    "import warnings\n",
    "from sklearn.metrics import f1_score\n",
    "warnings.filterwarnings('ignore')\n",
    "\n",
    "# Crear una figura grande con subplots en horizontal\n",
    "results_filtered = results_df[results_df['Best Score'] > 0.7]\n",
    "n_models = len(results_filtered) \n",
    "plt.figure(figsize=(5 * n_models, 5))  # Ancho ajustado al número de modelos\n",
    "\n",
    "# Iterar por cada modelo\n",
    "for idx, (index, row) in enumerate(results_filtered.iterrows(), 1):\n",
    "    model_name = row['Model']\n",
    "    model_params = best_params[model_name]\n",
    "\n",
    "    # Instanciar modelo directamente desde la lista de modelos\n",
    "    model = next(model for name, model, params in models if name == model_name)\n",
    "    model.set_params(**model_params)\n",
    "\n",
    "    # Entrenar y predecir (igual que tu código original)\n",
    "    model.fit(X_train_vectorized, y_train)\n",
    "    y_pred = model.predict(X_test_vectorized)\n",
    "    \n",
    "    # Calcular métricas\n",
    "    conf_matrix = confusion_matrix(y_test, y_pred)\n",
    "    accuracy = accuracy_score(y_test, y_pred)\n",
    "    f1 = f1_score(y_test, y_pred, average='weighted')\n",
    "\n",
    "    # Crear subplot en posición horizontal\n",
    "    ax = plt.subplot(1, n_models, idx)  # 1 fila, N columnas, posición idx\n",
    "    \n",
    "    # Heatmap de matriz de confusión\n",
    "    im = ax.imshow(conf_matrix, cmap='GnBu')\n",
    "    \n",
    "    # Configuraciones del plot\n",
    "    ax.set_title(f\"{model_name}\", pad=20)\n",
    "    ax.set_xticks(np.arange(len(set(y_test))), labels=set(y_test), rotation=45)\n",
    "    ax.set_yticks(np.arange(len(set(y_test))), labels=set(y_test))\n",
    "    ax.set_xlabel(f'Predicted \\n\\nAccuracy: {accuracy:.3f}\\nF1 Score: {f1:.3f}')\n",
    "    ax.set_ylabel('True')\n",
    "    \n",
    "    # Añadir texto en las celdas\n",
    "    thresh = conf_matrix.max() / 2.\n",
    "    for i in range(conf_matrix.shape[0]):\n",
    "        for j in range(conf_matrix.shape[1]):\n",
    "            ax.text(j, i, conf_matrix[i, j],\n",
    "                    ha=\"center\", va=\"center\",\n",
    "                    color=\"white\" if conf_matrix[i, j] > thresh else \"black\")\n",
    "\n",
    "plt.tight_layout()\n",
    "plt.show()\n"
   ]
  },
  {
   "cell_type": "markdown",
   "metadata": {},
   "source": [
    "## Part no supervisada"
   ]
  },
  {
   "cell_type": "code",
   "execution_count": null,
   "metadata": {},
   "outputs": [],
   "source": []
  }
 ],
 "metadata": {
  "kernelspec": {
   "display_name": "Python 3",
   "language": "python",
   "name": "python3"
  },
  "language_info": {
   "codemirror_mode": {
    "name": "ipython",
    "version": 3
   },
   "file_extension": ".py",
   "mimetype": "text/x-python",
   "name": "python",
   "nbconvert_exporter": "python",
   "pygments_lexer": "ipython3",
   "version": "3.12.9"
  }
 },
 "nbformat": 4,
 "nbformat_minor": 2
}
